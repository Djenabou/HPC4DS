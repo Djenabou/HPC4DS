{
 "cells": [
  {
   "cell_type": "markdown",
   "metadata": {},
   "source": [
    "This notebook demonstrates how to find out about the system \"behind\" your notebook server using some common functions. We'll use some of these again elsewhere in this series."
   ]
  },
  {
   "cell_type": "code",
   "execution_count": 25,
   "metadata": {},
   "outputs": [],
   "source": [
    "# Sys gives us access to system information and functions.\n",
    "# Be a little bit cautious - this lets you affect files on\n",
    "# the machine running the notebook server (if you have permissions)\n",
    "# It can do things \"outside the sandbox\" of the notebook\n",
    "import sys\n",
    "\n",
    "# Platform gives us nice information about the hardware we're running on\n",
    "import platform\n",
    "\n",
    "# We can use the Numba library to find out some other things\n",
    "# such as GPU capabilities\n",
    "import numba as nb"
   ]
  },
  {
   "cell_type": "markdown",
   "metadata": {},
   "source": [
    "First, let's find out what program is running this notebook"
   ]
  },
  {
   "cell_type": "code",
   "execution_count": 3,
   "metadata": {},
   "outputs": [
    {
     "name": "stdout",
     "output_type": "stream",
     "text": [
      "/usr/bin/python3\n"
     ]
    }
   ],
   "source": [
    "print(sys.executable)"
   ]
  },
  {
   "cell_type": "markdown",
   "metadata": {},
   "source": [
    "And what version of Python we're in. This shows quite a lot of information - if you just want the version number, we can get this another way (see below)."
   ]
  },
  {
   "cell_type": "code",
   "execution_count": 5,
   "metadata": {},
   "outputs": [
    {
     "name": "stdout",
     "output_type": "stream",
     "text": [
      "3.5.3 (default, Nov 18 2020, 21:09:16) \n",
      "[GCC 6.3.0 20170516]\n"
     ]
    }
   ],
   "source": [
    "print(sys.version)"
   ]
  },
  {
   "cell_type": "markdown",
   "metadata": {},
   "source": [
    "This is also how we'd get command line arguments if we were in a normal script. For notebooks, this isn't much use. But do note that the first item is always how the program was invoked."
   ]
  },
  {
   "cell_type": "code",
   "execution_count": 6,
   "metadata": {},
   "outputs": [
    {
     "name": "stdout",
     "output_type": "stream",
     "text": [
      "['/usr/local/lib/python3.5/dist-packages/ipykernel_launcher.py', '-f', '/home/hratcliffe/.local/share/jupyter/runtime/kernel-bbcee3f0-7c94-4bd4-a0af-8cd4a5580806.json']\n"
     ]
    }
   ],
   "source": [
    "print(sys.argv)"
   ]
  },
  {
   "cell_type": "markdown",
   "metadata": {},
   "source": [
    "Finally, we can find out things about our system such as where it will look for modules to import etc"
   ]
  },
  {
   "cell_type": "code",
   "execution_count": 7,
   "metadata": {},
   "outputs": [
    {
     "name": "stdout",
     "output_type": "stream",
     "text": [
      "['/usr/lib/python35.zip', '/usr/lib/python3.5', '/usr/lib/python3.5/plat-x86_64-linux-gnu', '/usr/lib/python3.5/lib-dynload', '', '/home/hratcliffe/.local/lib/python3.5/site-packages', '/usr/local/lib/python3.5/dist-packages', '/usr/lib/python3/dist-packages', '/usr/local/lib/python3.5/dist-packages/IPython/extensions', '/home/hratcliffe/.ipython']\n"
     ]
    }
   ],
   "source": [
    "print(sys.path)"
   ]
  },
  {
   "cell_type": "markdown",
   "metadata": {},
   "source": [
    "For finding out about our Operating System (OS) we can use the slightly better module, platform.\n",
    "This tells us what OS and which version we're running. Remember that this is run on the Notebook Server end:"
   ]
  },
  {
   "cell_type": "code",
   "execution_count": 15,
   "metadata": {},
   "outputs": [
    {
     "name": "stdout",
     "output_type": "stream",
     "text": [
      "Linux\n",
      "#1 SMP Debian 4.9.65-3+deb9u1 (2017-12-23)\n",
      "ridcully\n"
     ]
    }
   ],
   "source": [
    "# Our OS 'type'\n",
    "print(platform.system())\n",
    "# Our exact OS\n",
    "print(platform.version())\n",
    "# Our machine name\n",
    "print(platform.node())"
   ]
  },
  {
   "cell_type": "markdown",
   "metadata": {},
   "source": [
    "This also tells us about our Python installation, such as:"
   ]
  },
  {
   "cell_type": "code",
   "execution_count": 12,
   "metadata": {},
   "outputs": [
    {
     "name": "stdout",
     "output_type": "stream",
     "text": [
      "3.5.3\n",
      "CPython\n"
     ]
    }
   ],
   "source": [
    "# Our Python version number\n",
    "print(platform.python_version())\n",
    "# Our Python interpreter (CPython, IronPython etc)\n",
    "print(platform.python_implementation())"
   ]
  },
  {
   "cell_type": "markdown",
   "metadata": {},
   "source": [
    "We could use the version information in our program, for instance:"
   ]
  },
  {
   "cell_type": "code",
   "execution_count": 35,
   "metadata": {},
   "outputs": [
    {
     "name": "stdout",
     "output_type": "stream",
     "text": [
      "[3, 5, 3]\n",
      "You've got the right version\n"
     ]
    }
   ],
   "source": [
    "# Get version number as list of parts\n",
    "version = [int(i) for i in platform.python_version().split('.')]\n",
    "print(version)\n",
    "\n",
    "if version[0] == 2:\n",
    "    print(\"Your Python seems a little aged!\")\n",
    "elif version[0] > 3:\n",
    "    print(\"You might be from the future\")\n",
    "else:\n",
    "    print(\"You've got the right version\")"
   ]
  },
  {
   "cell_type": "markdown",
   "metadata": {},
   "source": [
    "We can find out about specific capabilities from inside the packages which use them. For instance if we wanted to program for a GPU (Graphics card), we might use numba. We can find out if the 'Cuda' package is available like this:"
   ]
  },
  {
   "cell_type": "code",
   "execution_count": 28,
   "metadata": {},
   "outputs": [
    {
     "name": "stdout",
     "output_type": "stream",
     "text": [
      "False\n"
     ]
    }
   ],
   "source": [
    "print(nb.cuda.is_available())"
   ]
  },
  {
   "cell_type": "markdown",
   "metadata": {},
   "source": [
    "We can use these commands within our program (instead of just printing them) and we can get more details in some cases, for instance:"
   ]
  },
  {
   "cell_type": "code",
   "execution_count": 30,
   "metadata": {},
   "outputs": [
    {
     "name": "stdout",
     "output_type": "stream",
     "text": [
      "No Cuda capable devices found\n"
     ]
    }
   ],
   "source": [
    "# Test if CUDA is available. If so report on the devices present \n",
    "if nb.cuda.is_available():  \n",
    "    \n",
    "    # List of CUDA capable devices in this system\n",
    "    for device in nb.cuda.list_devices():       \n",
    "        print(\"Device ID : \", device.id, \" : \", device.name.decode()) \n",
    "else:\n",
    "    print(\"No Cuda capable devices found\")"
   ]
  },
  {
   "cell_type": "markdown",
   "metadata": {},
   "source": [
    "Sometimes we want to find out about the packages we're using themselves. Most have a version number which you can get like this:"
   ]
  },
  {
   "cell_type": "code",
   "execution_count": 40,
   "metadata": {},
   "outputs": [
    {
     "name": "stdout",
     "output_type": "stream",
     "text": [
      "0.47.0\n"
     ]
    }
   ],
   "source": [
    "print(nb.__version__)"
   ]
  },
  {
   "cell_type": "markdown",
   "metadata": {},
   "source": [
    "Or we might want to know which version of Numpy our Numba package is built against, which we could do like this:"
   ]
  },
  {
   "cell_type": "code",
   "execution_count": 47,
   "metadata": {},
   "outputs": [
    {
     "name": "stdout",
     "output_type": "stream",
     "text": [
      "(1, 18)\n"
     ]
    }
   ],
   "source": [
    "print(nb.numpy_support.version)"
   ]
  }
 ],
 "metadata": {
  "kernelspec": {
   "display_name": "Python 3",
   "language": "python",
   "name": "python3"
  },
  "language_info": {
   "codemirror_mode": {
    "name": "ipython",
    "version": 3
   },
   "file_extension": ".py",
   "mimetype": "text/x-python",
   "name": "python",
   "nbconvert_exporter": "python",
   "pygments_lexer": "ipython3",
   "version": "3.5.3"
  }
 },
 "nbformat": 4,
 "nbformat_minor": 4
}
